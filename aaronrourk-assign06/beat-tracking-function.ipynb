{
 "cells": [
  {
   "cell_type": "code",
   "execution_count": 1,
   "metadata": {},
   "outputs": [],
   "source": [
    "import librosa\n",
    "\n",
    "def beatTrack(filename):\n",
    "    \n",
    "    # Load audio\n",
    "    y, sr = librosa.load(filename)\n",
    "            \n",
    "    # Harmonic-percussive source separation\n",
    "    y_harmonic, y_percussive = librosa.effects.hpss(y)\n",
    "    \n",
    "    # Now, let's run the beat tracker.\n",
    "    # We'll use the percussive component for this part\n",
    "    tempo, beats = librosa.beat.beat_track(y=y_percussive, sr=sr)\n",
    "        \n",
    "    beatTimes = librosa.frames_to_time(beats)\n",
    "    \n",
    "    return tempo, beats, beatTimes"
   ]
  },
  {
   "cell_type": "code",
   "execution_count": null,
   "metadata": {},
   "outputs": [],
   "source": []
  }
 ],
 "metadata": {
  "kernelspec": {
   "display_name": "Python 3",
   "language": "python",
   "name": "python3"
  },
  "language_info": {
   "codemirror_mode": {
    "name": "ipython",
    "version": 3
   },
   "file_extension": ".py",
   "mimetype": "text/x-python",
   "name": "python",
   "nbconvert_exporter": "python",
   "pygments_lexer": "ipython3",
   "version": "3.6.5"
  }
 },
 "nbformat": 4,
 "nbformat_minor": 2
}
