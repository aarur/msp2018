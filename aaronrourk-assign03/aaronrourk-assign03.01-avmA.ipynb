{
 "cells": [
  {
   "cell_type": "code",
   "execution_count": 43,
   "metadata": {
    "scrolled": false
   },
   "outputs": [],
   "source": [
    "from __future__ import division\n",
    "from numpy import polyfit, arange\n",
    "\n"
   ]
  },
  {
   "cell_type": "code",
   "execution_count": 44,
   "metadata": {},
   "outputs": [
    {
     "ename": "ModuleNotFoundError",
     "evalue": "No module named 'scikits'",
     "output_type": "error",
     "traceback": [
      "\u001b[0;31m---------------------------------------------------------------------------\u001b[0m",
      "\u001b[0;31mModuleNotFoundError\u001b[0m                       Traceback (most recent call last)",
      "\u001b[0;32m<ipython-input-44-de01b62e53fe>\u001b[0m in \u001b[0;36m<module>\u001b[0;34m()\u001b[0m\n\u001b[1;32m      8\u001b[0m \u001b[0;32mtry\u001b[0m\u001b[0;34m:\u001b[0m\u001b[0;34m\u001b[0m\u001b[0m\n\u001b[0;32m----> 9\u001b[0;31m     \u001b[0;32mimport\u001b[0m \u001b[0msoundfile\u001b[0m \u001b[0;32mas\u001b[0m \u001b[0msf\u001b[0m\u001b[0;34m\u001b[0m\u001b[0m\n\u001b[0m\u001b[1;32m     10\u001b[0m \u001b[0;32mexcept\u001b[0m \u001b[0mImportError\u001b[0m\u001b[0;34m:\u001b[0m\u001b[0;34m\u001b[0m\u001b[0m\n",
      "\u001b[0;31mModuleNotFoundError\u001b[0m: No module named 'soundfile'",
      "\nDuring handling of the above exception, another exception occurred:\n",
      "\u001b[0;31mModuleNotFoundError\u001b[0m                       Traceback (most recent call last)",
      "\u001b[0;32m<ipython-input-44-de01b62e53fe>\u001b[0m in \u001b[0;36m<module>\u001b[0;34m()\u001b[0m\n\u001b[1;32m      9\u001b[0m     \u001b[0;32mimport\u001b[0m \u001b[0msoundfile\u001b[0m \u001b[0;32mas\u001b[0m \u001b[0msf\u001b[0m\u001b[0;34m\u001b[0m\u001b[0m\n\u001b[1;32m     10\u001b[0m \u001b[0;32mexcept\u001b[0m \u001b[0mImportError\u001b[0m\u001b[0;34m:\u001b[0m\u001b[0;34m\u001b[0m\u001b[0m\n\u001b[0;32m---> 11\u001b[0;31m     \u001b[0;32mfrom\u001b[0m \u001b[0mscikits\u001b[0m\u001b[0;34m.\u001b[0m\u001b[0maudiolab\u001b[0m \u001b[0;32mimport\u001b[0m \u001b[0mflacread\u001b[0m\u001b[0;34m\u001b[0m\u001b[0m\n\u001b[0m",
      "\u001b[0;31mModuleNotFoundError\u001b[0m: No module named 'scikits'"
     ]
    }
   ],
   "source": [
    "from __future__ import division\n",
    "from numpy.fft import rfft\n",
    "from numpy import argmax, mean, diff, log\n",
    "from matplotlib.mlab import find\n",
    "from scipy.signal import blackmanharris, fftconvolve\n",
    "from time import time\n",
    "import sys\n",
    "try:\n",
    "    import soundfile as sf\n",
    "except ImportError:\n",
    "    from scikits.audiolab import flacread"
   ]
  },
  {
   "cell_type": "markdown",
   "metadata": {},
   "source": [
    "## YIN algorithm, implemented in Aubio: https://aubio.org/"
   ]
  },
  {
   "cell_type": "code",
   "execution_count": 45,
   "metadata": {},
   "outputs": [],
   "source": [
    "import matplotlib.pyplot as plt\n",
    "import numpy as np\n",
    "import aubio"
   ]
  },
  {
   "cell_type": "code",
   "execution_count": 46,
   "metadata": {},
   "outputs": [],
   "source": [
    "# YIN pitches\n",
    "filename='avmA.wav'\n",
    "downsample = 1\n",
    "samplerate = 0\n",
    "win_s = 1764 // downsample # fft size\n",
    "hop_s = 441 // downsample # hop size\n",
    "s = aubio.source(filename, samplerate, hop_s)\n",
    "samplerate = s.samplerate\n",
    "tolerance = 0.1\n",
    "\n",
    "start_time = time()\n",
    "pitch_o = aubio.pitch(\"yin\", win_s, hop_s, samplerate) \n",
    "#pitch_o.set_unit(\"midi\")\n",
    "pitch_o.set_tolerance(tolerance)\n",
    "\n",
    "pitchesYIN = []\n",
    "confidences = [] \n",
    "total_frames = 0\n",
    "while True:\n",
    "    samples, read = s()\n",
    "    pitch = pitch_o(samples)[0]\n",
    "    pitch = int(round(pitch))\n",
    "    confidence = pitch_o.get_confidence()\n",
    "    pitchesYIN += [pitch]\n",
    "    confidences += [confidence]\n",
    "    total_frames += read\n",
    "    if read < hop_s:\n",
    "         break        \n",
    "stop_time = time()            "
   ]
  },
  {
   "cell_type": "code",
   "execution_count": 47,
   "metadata": {},
   "outputs": [
    {
     "name": "stdout",
     "output_type": "stream",
     "text": [
      "Calculating frequency from YIN:\n",
      "453.268966 Hz\n",
      "Time elapsed: 0.032 s\n",
      "\n"
     ]
    }
   ],
   "source": [
    "print('Calculating frequency from YIN:'),\n",
    "print('%f Hz' % mean(pitchesYIN))\n",
    "print('Time elapsed: %.3f s\\n' % (stop_time - start_time))"
   ]
  },
  {
   "cell_type": "code",
   "execution_count": 49,
   "metadata": {
    "scrolled": false
   },
   "outputs": [
    {
     "data": {
      "text/plain": [
       "(400, 600)"
      ]
     },
     "execution_count": 49,
     "metadata": {},
     "output_type": "execute_result"
    },
    {
     "data": {
      "image/png": "[encoded data removed]",
      "text/plain": [
       "<Figure size 864x288 with 1 Axes>"
      ]
     },
     "metadata": {},
     "output_type": "display_data"
    }
   ],
   "source": [
    "fig, (ax1) = plt.subplots(1, 1, sharex=True, sharey=True, figsize=(12, 4))\n",
    "ax1.plot(np.asarray(pitchesYIN), color='blue')\n",
    "plt.title ('A-')\n",
    "plt.xlabel ('Frames')\n",
    "plt.ylabel ('Freq (Hz)')\n",
    "plt.ylim(400, 600)"
   ]
  },
  {
   "cell_type": "code",
   "execution_count": null,
   "metadata": {},
   "outputs": [],
   "source": []
  }
 ],
 "metadata": {
  "kernelspec": {
   "display_name": "Python 3",
   "language": "python",
   "name": "python3"
  },
  "language_info": {
   "codemirror_mode": {
    "name": "ipython",
    "version": 3
   },
   "file_extension": ".py",
   "mimetype": "text/x-python",
   "name": "python",
   "nbconvert_exporter": "python",
   "pygments_lexer": "ipython3",
   "version": "3.6.5"
  }
 },
 "nbformat": 4,
 "nbformat_minor": 2
}
